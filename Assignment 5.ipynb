{
 "cells": [
  {
   "cell_type": "code",
   "execution_count": null,
   "id": "ef066f73-b516-4900-b2c4-309239e26a68",
   "metadata": {
    "tags": []
   },
   "outputs": [],
   "source": [
    "1.Which keyword is used to create a function? Create a function a list of odd numbers in the range of 1 to 25.\n",
    "Ans-In python 'def'is used to create a function.\n",
    "\n",
    "for example- A list of odd numbers in range of 1 to 25\n",
    "               \n",
    "                def odd_numbers():\n",
    "                    odd_num_list = []\n",
    "                    for num in range(1,26):\n",
    "                        if num % 2 != 0:\n",
    "                            odd_num_list.append(num)\n",
    "                return odd_num_list\n",
    "                \n",
    "                \n",
    "                print(odd_numbers())"
   ]
  },
  {
   "cell_type": "code",
   "execution_count": null,
   "id": "7af52a09-8de2-4c18-ba4b-a0eaec471541",
   "metadata": {},
   "outputs": [],
   "source": [
    "2.Why *args and **kwargs is used in some functions?Create a function each for *args and **kwargs to demonstrate their use.\n",
    "Ans - *args is used to send a non-keyworded variable length argument list to the functions.It allows you to pass an arbitrary number of positional arguments to the function, which will ne treated as a tuple.\n",
    "\n",
    "       **kwargs is used to pass keyworded variable length of arguments to a function.\n",
    "        The keyworded arguments return a dictionary in the function.\n",
    "\n",
    "\n",
    "For example-  def test_function(*args):\n",
    "                  for arg in args:\n",
    "                       print(arg)\n",
    "                \n",
    "            test_function(1,2,3,4)\n",
    "            \n",
    "            def test_function(**kwargs):\n",
    "                for key, value in kwargs.items():\n",
    "                    print(f{key}: {value})\n",
    "                    \n",
    "            test_function(first_name =\"john\", lats_name=\"Doe\")\n",
    "            "
   ]
  },
  {
   "cell_type": "code",
   "execution_count": 3,
   "id": "7573a00e-bcf9-4bd2-a276-c30c04ad7ed0",
   "metadata": {
    "collapsed": true,
    "jupyter": {
     "outputs_hidden": true
    },
    "tags": []
   },
   "outputs": [
    {
     "ename": "IndentationError",
     "evalue": "unindent does not match any outer indentation level (<tokenize>, line 7)",
     "output_type": "error",
     "traceback": [
      "\u001b[0;36m  File \u001b[0;32m<tokenize>:7\u001b[0;36m\u001b[0m\n\u001b[0;31m    '_iter_'method is used to initialize the iterator object.\u001b[0m\n\u001b[0m    ^\u001b[0m\n\u001b[0;31mIndentationError\u001b[0m\u001b[0;31m:\u001b[0m unindent does not match any outer indentation level\n"
     ]
    }
   ],
   "source": [
    "3.What is an iterator in python?Name the method used to initialise the iterator object and the method used for iteation.Use these methods to print the first five elements of given list[2,4,6,8,10,12,14,16,18,20]\n",
    "Ans -  An iterator in python object that implements the ierator protocol.\n",
    "which is set a methods that enables iteration over a container object.\n",
    "       '_iter_' and '_next_'\n",
    "    \n",
    "     \n",
    "    '_iter_'method is used to initialize the iterator object.\n",
    "    \n",
    "    '_next_'method is used to iteration.It returns next value from the iterator.\n",
    "    \n",
    "    \n",
    "    for example-  1st = [2,4,6,8,10,12,14,16,18,20]\n",
    "    \n",
    "                class FirstFive:\n",
    "                   def _init_(self,1st):\n",
    "                    self.index = 0\n",
    "                    \n",
    "                    def _iter_(self):\n",
    "                        return self\n",
    "                    \n",
    "                    def _next_(self):\n",
    "                        if self.index < 5:\n",
    "                            result = self.1st[self.index]\n",
    "                            self.index += 1\n",
    "                            return result\n",
    "                        else:\n",
    "                            raise StopIteration\n",
    "                            \n",
    "            first_five = FirstFive(1st)\n",
    "            for i in first_five:\n",
    "                print(i)"
   ]
  },
  {
   "cell_type": "code",
   "execution_count": null,
   "id": "6755a6ec-291e-4fa2-b5b6-f7299ded9476",
   "metadata": {},
   "outputs": [],
   "source": [
    "4.What is generator function in python?Why yield keyword is used?Give an example of a generator function?\n",
    "Ans- To create an iterator.It uses the'yield' keyword to return a generator object that can be used in a 'for' loop or with the 'next' function ti iterate over a sequence of values.\n",
    "\n",
    "yield keyword is used in generator functions to produce a value and suspend the functions execution.,saving its state.\n",
    "\n",
    "\n",
    "For example- first 'n' even numbers:\n",
    "    \n",
    "      def even_numbers(n):\n",
    "              count = 0\n",
    "                num = 0\n",
    "            while count < n:\n",
    "                count += 1\n",
    "                yield num\n",
    "                num += 2\n",
    "                \n",
    "evens = even_numbers(5)\n",
    "for i in evens:\n",
    "    print(i)"
   ]
  },
  {
   "cell_type": "code",
   "execution_count": null,
   "id": "3e50d7f7-1b9a-4d53-81c0-c953cd4849d2",
   "metadata": {},
   "outputs": [],
   "source": [
    "5.Create a generator function for prime numbers less than 1000.Use the next()method to print the first 20 prime numbers.\n",
    "Ans -   \n",
    "                   def prime_numbers():\n",
    "                       yield 2\n",
    "                       primes = [2]\n",
    "                       num = 3\n",
    "                    while num < 1000:\n",
    "                        is_prime = True\n",
    "                        for prime in primes:\n",
    "                            if prime > (num ** 0.5):\n",
    "                                break\n",
    "                            if (num % prime) == 0:\n",
    "                                is_prime = False\n",
    "                                break\n",
    "                            if is_prime:\n",
    "                                primes.append(num)\n",
    "                                yield num\n",
    "                            num += 2\n",
    "                            \n",
    "                primes = prime_numbers()\n",
    "                for i in range(20):\n",
    "                    print(next(primes))\n",
    "                    \n",
    "            "
   ]
  },
  {
   "cell_type": "code",
   "execution_count": null,
   "id": "222c8285-fa4c-4cd5-96e5-4470a0a6dedf",
   "metadata": {},
   "outputs": [],
   "source": [
    "6.Write a python program to print the first 10 finonacci numbers using a while loop?\n",
    "Ans -     \n",
    "                def fibonacci():\n",
    "                    a, b = 0,1\n",
    "                    while True:\n",
    "                       yield a\n",
    "                        a, b =b, a + b\n",
    "                        \n",
    "                        \n",
    "                fib = fibonacci()\n",
    "                for i in range(10):\n",
    "                    print(next(fib))"
   ]
  },
  {
   "cell_type": "code",
   "execution_count": null,
   "id": "d1ffbbec-f90a-4ec1-973e-86887a4800c0",
   "metadata": {},
   "outputs": [],
   "source": [
    "7.Write a list comprehension to iterate through the given string:'pwskills'\n",
    "Expected outout:['p','w','s','k','i','l','l','s']\n",
    "\n",
    "Ans -     string = 'pwskills'\n",
    "          output = [char for char in string]\n",
    "         print(output)"
   ]
  },
  {
   "cell_type": "code",
   "execution_count": null,
   "id": "ff9b293b-d19b-43ec-8c4d-4e69c14ec897",
   "metadata": {},
   "outputs": [],
   "source": [
    "8.Write a python program to check whether a given number is palindrome or using a while loop.\n",
    "Ans - \n",
    "        def is_palindrome(num):\n",
    "            temp = num\n",
    "            rev = 0\n",
    "            while temp > 0:\n",
    "                rev =(rev * 10) + (temp % 10)\n",
    "                temp =temp // 10\n",
    "                return num == rev\n",
    "            \n",
    "        number = int(input(\"Enter a number: \"))\n",
    "        if is_palindrome(number):\n",
    "            print(f\"{number} is a palindrome.\")\n",
    "    else :\n",
    "        print(f\"{number} is not a palindrome.\")"
   ]
  },
  {
   "cell_type": "code",
   "execution_count": null,
   "id": "2785bf27-1647-491f-ac15-63ac8c538469",
   "metadata": {},
   "outputs": [],
   "source": [
    "9.write a code to print odd numbers from 1 to 100 using list comprehension and also list comprehension to filter odd numbers.\n",
    "\n",
    "Ans -  \n",
    "           numbers = [num for num in range(1, 101)]\n",
    "           odd_numbers = [num for num in numbers if num % 2 != 0]\n",
    "           print(odd_numbers)"
   ]
  }
 ],
 "metadata": {
  "kernelspec": {
   "display_name": "Python 3 (ipykernel)",
   "language": "python",
   "name": "python3"
  },
  "language_info": {
   "codemirror_mode": {
    "name": "ipython",
    "version": 3
   },
   "file_extension": ".py",
   "mimetype": "text/x-python",
   "name": "python",
   "nbconvert_exporter": "python",
   "pygments_lexer": "ipython3",
   "version": "3.10.8"
  }
 },
 "nbformat": 4,
 "nbformat_minor": 5
}
